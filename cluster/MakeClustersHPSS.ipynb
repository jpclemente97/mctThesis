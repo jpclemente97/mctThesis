{
 "cells": [
  {
   "cell_type": "code",
   "execution_count": 1,
   "id": "517bf2cd",
   "metadata": {},
   "outputs": [],
   "source": [
    "import numpy as np\n",
    "import pandas as pd\n",
    "import csv\n",
    "import os"
   ]
  },
  {
   "cell_type": "code",
   "execution_count": 2,
   "id": "07bfe16d",
   "metadata": {},
   "outputs": [],
   "source": [
    "file1 = open(\"hpssFeatures.csv\", 'r')\n",
    "csvReader1 = csv.reader(file1)\n",
    "header = next(csvReader1)\n",
    "fileArray1 = np.array([])\n",
    "featuresArray1 = []\n",
    "\n",
    "rowCount = 0\n",
    "for row in csvReader1:\n",
    "    fileName = row[0]\n",
    "    features = row[1].split()\n",
    "\n",
    "    if features[0] == '[':\n",
    "        features.pop(0)\n",
    "    if features[len(features) - 1] == ']':\n",
    "        features.pop(len(features) - 1)\n",
    "        \n",
    "    for i in range(len(features)):\n",
    "        features[i] = features[i].replace(',', '')\n",
    "\n",
    "    features[0] = features[0].replace('[', '')\n",
    "    features[len(features) - 1] = features[len(features) - 1].replace(']', '')\n",
    "    features = np.array(features)\n",
    "    features = features.astype(float)\n",
    "    featuresArray1.append(features)\n",
    "    fileArray1 = np.append(fileArray1, fileName)\n",
    "    #fileArray.append(fileName)\n",
    "    rowCount += 1"
   ]
  },
  {
   "cell_type": "code",
   "execution_count": 3,
   "id": "11f43282",
   "metadata": {},
   "outputs": [],
   "source": [
    "featuresNpArray1 = np.zeros((rowCount,7))\n",
    "for i in range(len(featuresArray1)):\n",
    "    featuresNpArray1[i, :] = featuresArray1[i]"
   ]
  },
  {
   "cell_type": "code",
   "execution_count": 4,
   "id": "5aca3fc4",
   "metadata": {},
   "outputs": [],
   "source": [
    "import matplotlib.pyplot as plt\n",
    "import matplotlib.style as ms\n",
    "import sklearn.cluster\n",
    "import sklearn.preprocessing"
   ]
  },
  {
   "cell_type": "code",
   "execution_count": 5,
   "id": "5819b952",
   "metadata": {},
   "outputs": [],
   "source": [
    "scaler1 = sklearn.preprocessing.StandardScaler()\n",
    "scaler1.fit(featuresNpArray1)\n",
    "featuresNpArray1 = scaler1.transform(featuresNpArray1)"
   ]
  },
  {
   "cell_type": "code",
   "execution_count": 6,
   "id": "b691aad6",
   "metadata": {},
   "outputs": [
    {
     "data": {
      "image/png": "[encoded data removed]",
      "text/plain": [
       "<Figure size 576x360 with 2 Axes>"
      ]
     },
     "metadata": {
      "needs_background": "light"
     },
     "output_type": "display_data"
    }
   ],
   "source": [
    "sse = [] #sum of squared errors\n",
    "sil_coeff = [] #silhouette coefficients\n",
    "\n",
    "range_n_clusters = range(2, 10)\n",
    "\n",
    "for k in range_n_clusters:\n",
    "    kmeans = sklearn.cluster.KMeans(n_clusters=k).fit(featuresNpArray1)\n",
    "    \n",
    "    sse.append(kmeans.inertia_)\n",
    "    \n",
    "    label = kmeans.labels_\n",
    "    sil_coeff.append(sklearn.metrics.silhouette_score(featuresNpArray1, label, metric='euclidean'))\n",
    "         \n",
    "fig = plt.figure(figsize=(8,5))\n",
    "fig.add_subplot(121)\n",
    "plt.plot(range_n_clusters, sse,'b-',label='Sum of Squared Error')\n",
    "plt.xlabel(\"Number of cluster\")\n",
    "plt.ylabel(\"Sum of Squared Error\")\n",
    "plt.legend()\n",
    "fig.add_subplot(122)\n",
    "plt.plot(range_n_clusters, sil_coeff,'b-',label='Silhouette Score')\n",
    "plt.xlabel(\"Number of cluster\")\n",
    "plt.ylabel(\"Silhouette Score\")\n",
    "plt.legend()\n",
    "plt.show()"
   ]
  },
  {
   "cell_type": "code",
   "execution_count": 7,
   "id": "24a59250",
   "metadata": {},
   "outputs": [],
   "source": [
    "clusters = 6\n",
    "kmeans1 = sklearn.cluster.KMeans(n_clusters=clusters).fit(featuresNpArray1)"
   ]
  },
  {
   "cell_type": "code",
   "execution_count": 8,
   "id": "949a2db9",
   "metadata": {},
   "outputs": [
    {
     "name": "stdout",
     "output_type": "stream",
     "text": [
      "7950\n",
      "cluster:  0\n",
      "1147\n",
      "cluster:  1\n",
      "1826\n",
      "cluster:  2\n",
      "1542\n",
      "cluster:  3\n",
      "1345\n",
      "cluster:  4\n",
      "1415\n",
      "cluster:  5\n",
      "675\n",
      "[array(['063043', '059720', '085426', '126672', '142947', '148607'],\n",
      "      dtype='<U32'), array(['119939', '025216', '123523', '107030', '110440', '110711'],\n",
      "      dtype='<U32'), array(['098237', '058061', '121738', '083718', '014569', '063803'],\n",
      "      dtype='<U32'), array(['071246', '006380', '068862', '120300', '113271', '017499'],\n",
      "      dtype='<U32'), array(['031391', '000255', '087100', '148519', '029480', '114294'],\n",
      "      dtype='<U32'), array(['113021', '149099', '148114', '047897', '133972', '126224'],\n",
      "      dtype='<U32')]\n"
     ]
    }
   ],
   "source": [
    "pred_classes1 = kmeans1.predict(featuresNpArray1)\n",
    "print(len(fileArray1))\n",
    "\n",
    "for cluster in range(clusters):\n",
    "    print('cluster: ', cluster)\n",
    "    \n",
    "    indiciesWhere = np.where(pred_classes1 == 0)\n",
    "    for index in indiciesWhere:\n",
    "        subArray = fileArray1[np.where(pred_classes1 == cluster)]\n",
    "        print(len(subArray))\n",
    "        \n",
    "from sklearn.metrics import pairwise_distances\n",
    "\n",
    "distances = pairwise_distances(kmeans1.cluster_centers_, featuresNpArray1)\n",
    "ind = [np.argpartition(i, 6)[:6] for i in distances]\n",
    "closest = [fileArray1[indexes] for indexes in ind]\n",
    "print(closest)"
   ]
  },
  {
   "cell_type": "code",
   "execution_count": 9,
   "id": "e51b3367",
   "metadata": {},
   "outputs": [
    {
     "name": "stdout",
     "output_type": "stream",
     "text": [
      "0       2\n",
      "1       2\n",
      "2       4\n",
      "3       2\n",
      "4       2\n",
      "       ..\n",
      "7945    1\n",
      "7946    2\n",
      "7947    5\n",
      "7948    2\n",
      "7949    1\n",
      "Name: cluster, Length: 7950, dtype: int32\n",
      "158    3\n",
      "Name: cluster, dtype: int32\n"
     ]
    }
   ],
   "source": [
    "cluster_map = pd.DataFrame()\n",
    "#cluster_map['data_index'] = featuresNpArray1\n",
    "cluster_map['cluster'] = kmeans1.labels_\n",
    "print(cluster_map['cluster'])\n",
    "\n",
    "index = np.where(fileArray1 == '105141')[0]\n",
    "print(cluster_map['cluster'][index])"
   ]
  },
  {
   "cell_type": "markdown",
   "id": "dba1414e",
   "metadata": {},
   "source": [
    "# "
   ]
  }
 ],
 "metadata": {
  "kernelspec": {
   "display_name": "Python 3 (ipykernel)",
   "language": "python",
   "name": "python3"
  },
  "language_info": {
   "codemirror_mode": {
    "name": "ipython",
    "version": 3
   },
   "file_extension": ".py",
   "mimetype": "text/x-python",
   "name": "python",
   "nbconvert_exporter": "python",
   "pygments_lexer": "ipython3",
   "version": "3.9.10"
  }
 },
 "nbformat": 4,
 "nbformat_minor": 5
}
