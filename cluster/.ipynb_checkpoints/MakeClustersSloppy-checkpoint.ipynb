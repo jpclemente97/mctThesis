{
 "cells": [
  {
   "cell_type": "code",
   "execution_count": 1,
   "id": "517bf2cd",
   "metadata": {},
   "outputs": [],
   "source": [
    "import numpy as np\n",
    "import pandas as pd\n",
    "import csv\n",
    "import os"
   ]
  },
  {
   "cell_type": "code",
   "execution_count": 2,
   "id": "07bfe16d",
   "metadata": {},
   "outputs": [],
   "source": [
    "file1 = open(\"spleeterFeatures.csv\", 'r')\n",
    "csvReader1 = csv.reader(file1)\n",
    "header = next(csvReader1)\n",
    "fileArray1 = np.array([])\n",
    "featuresArray1 = []\n",
    "\n",
    "rowCount = 0\n",
    "for row in csvReader1:\n",
    "    fileName = row[0]\n",
    "    features = row[1].split()\n",
    "\n",
    "    if features[0] == '[':\n",
    "        features.pop(0)\n",
    "    if features[len(features) - 1] == ']':\n",
    "        features.pop(len(features) - 1)\n",
    "        \n",
    "    for i in range(len(features)):\n",
    "        features[i] = features[i].replace(',', '')\n",
    "\n",
    "    features[0] = features[0].replace('[', '')\n",
    "    features[len(features) - 1] = features[len(features) - 1].replace(']', '')\n",
    "    features = np.array(features)\n",
    "    features = features.astype(float)\n",
    "    featuresArray1.append(features)\n",
    "    fileArray1 = np.append(fileArray1, fileName)\n",
    "    #fileArray.append(fileName)\n",
    "    rowCount += 1"
   ]
  },
  {
   "cell_type": "code",
   "execution_count": 3,
   "id": "11f43282",
   "metadata": {},
   "outputs": [],
   "source": [
    "featuresNpArray1 = np.zeros((rowCount,7))\n",
    "for i in range(len(featuresArray1)):\n",
    "    featuresNpArray1[i, :] = featuresArray1[i]"
   ]
  },
  {
   "cell_type": "code",
   "execution_count": 4,
   "id": "5aca3fc4",
   "metadata": {},
   "outputs": [],
   "source": [
    "import matplotlib.pyplot as plt\n",
    "import matplotlib.style as ms\n",
    "import sklearn.cluster\n",
    "import sklearn.preprocessing"
   ]
  },
  {
   "cell_type": "code",
   "execution_count": 5,
   "id": "5819b952",
   "metadata": {},
   "outputs": [],
   "source": [
    "scaler1 = sklearn.preprocessing.StandardScaler()\n",
    "scaler1.fit(featuresNpArray1)\n",
    "featuresNpArray1 = scaler1.transform(featuresNpArray1)"
   ]
  },
  {
   "cell_type": "code",
   "execution_count": 6,
   "id": "b691aad6",
   "metadata": {},
   "outputs": [
    {
     "data": {
      "image/png": "[encoded data removed]",
      "text/plain": [
       "<Figure size 576x360 with 2 Axes>"
      ]
     },
     "metadata": {
      "needs_background": "light"
     },
     "output_type": "display_data"
    }
   ],
   "source": [
    "sse = [] #sum of squared errors\n",
    "sil_coeff = [] #silhouette coefficients\n",
    "\n",
    "range_n_clusters = range(2, 10)\n",
    "\n",
    "for k in range_n_clusters:\n",
    "    kmeans = sklearn.cluster.KMeans(n_clusters=k).fit(featuresNpArray1)\n",
    "    \n",
    "    sse.append(kmeans.inertia_)\n",
    "    \n",
    "    label = kmeans.labels_\n",
    "    sil_coeff.append(sklearn.metrics.silhouette_score(featuresNpArray1, label, metric='euclidean'))\n",
    "         \n",
    "fig = plt.figure(figsize=(8,5))\n",
    "fig.add_subplot(121)\n",
    "plt.plot(range_n_clusters, sse,'b-',label='Sum of Squared Error')\n",
    "plt.xlabel(\"Number of cluster\")\n",
    "plt.ylabel(\"Sum of Squared Error\")\n",
    "plt.legend()\n",
    "fig.add_subplot(122)\n",
    "plt.plot(range_n_clusters, sil_coeff,'b-',label='Silhouette Score')\n",
    "plt.xlabel(\"Number of cluster\")\n",
    "plt.ylabel(\"Silhouette Score\")\n",
    "plt.legend()\n",
    "plt.show()"
   ]
  },
  {
   "cell_type": "code",
   "execution_count": 7,
   "id": "24a59250",
   "metadata": {},
   "outputs": [],
   "source": [
    "clusters = 5\n",
    "kmeans1 = sklearn.cluster.KMeans(n_clusters=clusters).fit(featuresNpArray1)"
   ]
  },
  {
   "cell_type": "code",
   "execution_count": 8,
   "id": "5fa5fe8d",
   "metadata": {},
   "outputs": [
    {
     "name": "stdout",
     "output_type": "stream",
     "text": [
      "7124\n",
      "cluster:  0\n",
      "2172\n",
      "cluster:  1\n",
      "1749\n",
      "cluster:  2\n",
      "1409\n",
      "cluster:  3\n",
      "965\n",
      "cluster:  4\n",
      "829\n"
     ]
    }
   ],
   "source": [
    "pred_classes1 = kmeans1.predict(featuresNpArray1)\n",
    "print(len(fileArray1))\n",
    "\n",
    "for cluster in range(clusters):\n",
    "    print('cluster: ', cluster)\n",
    "    \n",
    "    indiciesWhere = np.where(pred_classes1 == 0)\n",
    "    for index in indiciesWhere:\n",
    "        subArray = fileArray1[np.where(pred_classes1 == cluster)]\n",
    "        print(len(subArray))"
   ]
  },
  {
   "cell_type": "code",
   "execution_count": 9,
   "id": "e4233c7c",
   "metadata": {},
   "outputs": [
    {
     "name": "stdout",
     "output_type": "stream",
     "text": [
      "[[ 0.9038145  -0.07967836  0.18663426 -0.7191825  -0.56420286 -0.41038666\n",
      "   1.00161829]\n",
      " [-0.42577261 -0.19329259  0.48843581  1.31875697 -0.37486629 -0.33526278\n",
      "  -0.70528564]\n",
      " [-0.17713545 -0.67888063 -0.68207869  0.05412735  0.51706665  1.42778625\n",
      "  -0.06339016]\n",
      " [-0.8783291   1.58966493  0.59884124 -0.54683604 -0.50150503 -0.31171188\n",
      "  -0.74704597]\n",
      " [-0.14526426 -0.07919965 -1.05659725 -0.35716665  1.9701725  -0.27726887\n",
      "  -0.15669781]]\n"
     ]
    }
   ],
   "source": [
    "centroids  = kmeans1.cluster_centers_\n",
    "print(centroids)"
   ]
  },
  {
   "cell_type": "code",
   "execution_count": 10,
   "id": "949a2db9",
   "metadata": {},
   "outputs": [
    {
     "name": "stdout",
     "output_type": "stream",
     "text": [
      "7124\n",
      "cluster:  0\n",
      "2172\n",
      "cluster:  1\n",
      "1749\n",
      "cluster:  2\n",
      "1409\n",
      "cluster:  3\n",
      "965\n",
      "cluster:  4\n",
      "829\n",
      "[array(['126748', '061736', '091455', '046241', '138317', '068356'],\n",
      "      dtype='<U32'), array(['130683', '086793', '071252', '056649', '105141', '128710'],\n",
      "      dtype='<U32'), array(['095486', '146343', '041983', '041310', '016997', '012490'],\n",
      "      dtype='<U32'), array(['060875', '067361', '060170', '134359', '086725', '045516'],\n",
      "      dtype='<U32'), array(['133276', '117669', '052127', '045335', '123002', '096167'],\n",
      "      dtype='<U32')]\n"
     ]
    }
   ],
   "source": [
    "pred_classes1 = kmeans1.predict(featuresNpArray1)\n",
    "print(len(fileArray1))\n",
    "\n",
    "for cluster in range(clusters):\n",
    "    print('cluster: ', cluster)\n",
    "    \n",
    "    indiciesWhere = np.where(pred_classes1 == 0)\n",
    "    for index in indiciesWhere:\n",
    "        subArray = fileArray1[np.where(pred_classes1 == cluster)]\n",
    "        print(len(subArray))\n",
    "        \n",
    "from sklearn.metrics import pairwise_distances\n",
    "\n",
    "distances = pairwise_distances(kmeans1.cluster_centers_, featuresNpArray1)\n",
    "ind = [np.argpartition(i, 6)[:6] for i in distances]\n",
    "closest = [fileArray1[indexes] for indexes in ind]\n",
    "print(closest)"
   ]
  },
  {
   "cell_type": "code",
   "execution_count": 11,
   "id": "e51b3367",
   "metadata": {},
   "outputs": [
    {
     "name": "stdout",
     "output_type": "stream",
     "text": [
      "0       3\n",
      "1       0\n",
      "2       0\n",
      "3       1\n",
      "4       0\n",
      "       ..\n",
      "7119    0\n",
      "7120    1\n",
      "7121    3\n",
      "7122    0\n",
      "7123    3\n",
      "Name: cluster, Length: 7124, dtype: int32\n",
      "138    1\n",
      "Name: cluster, dtype: int32\n"
     ]
    }
   ],
   "source": [
    "cluster_map = pd.DataFrame()\n",
    "#cluster_map['data_index'] = featuresNpArray1\n",
    "cluster_map['cluster'] = kmeans1.labels_\n",
    "print(cluster_map['cluster'])\n",
    "\n",
    "index = np.where(fileArray1 == '105141')[0]\n",
    "print(cluster_map['cluster'][index])"
   ]
  },
  {
   "cell_type": "code",
   "execution_count": 12,
   "id": "843541df",
   "metadata": {},
   "outputs": [
    {
     "data": {
      "image/png": "[encoded data removed]",
      "text/plain": [
       "<Figure size 576x360 with 2 Axes>"
      ]
     },
     "metadata": {
      "needs_background": "light"
     },
     "output_type": "display_data"
    }
   ],
   "source": [
    "file = open(\"hpssFeatures.csv\", 'r')\n",
    "csvReader = csv.reader(file)\n",
    "header = next(csvReader)\n",
    "fileArray = np.array([])\n",
    "featuresArray = []\n",
    "\n",
    "rowCount = 0\n",
    "for row in csvReader:\n",
    "    fileName = row[0]\n",
    "    features = row[1].split()\n",
    "\n",
    "    if features[0] == '[':\n",
    "        features.pop(0)\n",
    "    if features[len(features) - 1] == ']':\n",
    "        features.pop(len(features) - 1)\n",
    "        \n",
    "    for i in range(len(features)):\n",
    "        features[i] = features[i].replace(',', '')\n",
    "\n",
    "    features[0] = features[0].replace('[', '')\n",
    "    features[len(features) - 1] = features[len(features) - 1].replace(']', '')\n",
    "    features = np.array(features)\n",
    "    features = features.astype(float)\n",
    "    featuresArray.append(features)\n",
    "    fileArray = np.append(fileArray, fileName)\n",
    "    #fileArray.append(fileName)\n",
    "    rowCount += 1\n",
    "    \n",
    "featuresNpArray = np.zeros((rowCount,7))\n",
    "for i in range(len(featuresArray)):\n",
    "    featuresNpArray[i, :] = featuresArray[i]\n",
    "    \n",
    "scaler = sklearn.preprocessing.StandardScaler()\n",
    "scaler.fit(featuresNpArray)\n",
    "featuresNpArray = scaler.transform(featuresNpArray)\n",
    "\n",
    "sse = [] #sum of squared errors\n",
    "sil_coeff = [] #silhouette coefficients\n",
    "\n",
    "range_n_clusters = range(2, 10)\n",
    "\n",
    "for k in range_n_clusters:\n",
    "    kmeans = sklearn.cluster.KMeans(n_clusters=k).fit(featuresNpArray)\n",
    "    \n",
    "    sse.append(kmeans.inertia_)\n",
    "    \n",
    "    label = kmeans.labels_\n",
    "    sil_coeff.append(sklearn.metrics.silhouette_score(featuresNpArray, label, metric='euclidean'))\n",
    "         \n",
    "fig = plt.figure(figsize=(8,5))\n",
    "fig.add_subplot(121)\n",
    "plt.plot(range_n_clusters, sse,'b-',label='Sum of Squared Error')\n",
    "plt.xlabel(\"Number of cluster\")\n",
    "plt.ylabel(\"Sum of Squared Error\")\n",
    "plt.legend()\n",
    "fig.add_subplot(122)\n",
    "plt.plot(range_n_clusters, sil_coeff,'b-',label='Silhouette Score')\n",
    "plt.xlabel(\"Number of cluster\")\n",
    "plt.ylabel(\"Silhouette Score\")\n",
    "plt.legend()\n",
    "plt.show()"
   ]
  },
  {
   "cell_type": "code",
   "execution_count": 13,
   "id": "81d3af28",
   "metadata": {},
   "outputs": [
    {
     "name": "stdout",
     "output_type": "stream",
     "text": [
      "7950\n",
      "cluster:  0\n",
      "1342\n",
      "cluster:  1\n",
      "1300\n",
      "cluster:  2\n",
      "2766\n",
      "cluster:  3\n",
      "1789\n",
      "cluster:  4\n",
      "753\n",
      "[array(['006380', '068862', '071246', '120300', '113271', '110265'],\n",
      "      dtype='<U32'), array(['126672', '135363', '148607', '060757', '059720', '122803'],\n",
      "      dtype='<U32'), array(['119893', '113342', '062165', '055119', '006440', '025029'],\n",
      "      dtype='<U32'), array(['000255', '048317', '099135', '016822', '081033', '116704'],\n",
      "      dtype='<U32'), array(['113021', '148114', '047897', '108302', '126413', '045335'],\n",
      "      dtype='<U32')]\n"
     ]
    }
   ],
   "source": [
    "clusters = 5\n",
    "kmeans = sklearn.cluster.KMeans(n_clusters=clusters).fit(featuresNpArray)\n",
    "\n",
    "pred_classes = kmeans.predict(featuresNpArray)\n",
    "print(len(fileArray))\n",
    "\n",
    "for cluster in range(clusters):\n",
    "    print('cluster: ', cluster)\n",
    "    \n",
    "    indiciesWhere = np.where(pred_classes == 0)\n",
    "    for index in indiciesWhere:\n",
    "        subArray = fileArray[np.where(pred_classes == cluster)]\n",
    "        print(len(subArray))\n",
    "        \n",
    "from sklearn.metrics import pairwise_distances\n",
    "\n",
    "distances = pairwise_distances(kmeans.cluster_centers_, featuresNpArray)\n",
    "ind = [np.argpartition(i, 6)[:6] for i in distances]\n",
    "closest = [fileArray[indexes] for indexes in ind]\n",
    "print(closest)"
   ]
  },
  {
   "cell_type": "code",
   "execution_count": 14,
   "id": "5be33cca",
   "metadata": {},
   "outputs": [
    {
     "data": {
      "image/png": "[encoded data removed]",
      "text/plain": [
       "<Figure size 576x360 with 2 Axes>"
      ]
     },
     "metadata": {
      "needs_background": "light"
     },
     "output_type": "display_data"
    },
    {
     "name": "stdout",
     "output_type": "stream",
     "text": [
      "7124\n",
      "cluster:  0\n",
      "1534\n",
      "cluster:  1\n",
      "1411\n",
      "cluster:  2\n",
      "802\n",
      "cluster:  3\n",
      "1099\n",
      "cluster:  4\n",
      "718\n",
      "cluster:  5\n",
      "1560\n",
      "[array(['056649', '076129', '130683', '071252', '085828', '086793'],\n",
      "      dtype='<U32'), array(['012490', '146343', '016997', '095486', '041983', '038435'],\n",
      "      dtype='<U32'), array(['123002', '133276', '045335', '096167', '024746', '052127'],\n",
      "      dtype='<U32'), array(['098628', '106954', '110691', '107391', '083719', '110923'],\n",
      "      dtype='<U32'), array(['134359', '011792', '045516', '010250', '060875', '042023'],\n",
      "      dtype='<U32'), array(['058341', '107257', '001443', '099093', '048440', '126605'],\n",
      "      dtype='<U32')]\n"
     ]
    }
   ],
   "source": [
    "file = open(\"spleeterFeatures.csv\", 'r')\n",
    "csvReader = csv.reader(file)\n",
    "header = next(csvReader)\n",
    "fileArray = np.array([])\n",
    "featuresArray = []\n",
    "\n",
    "rowCount = 0\n",
    "for row in csvReader:\n",
    "    fileName = row[0]\n",
    "    features = row[1].split()\n",
    "\n",
    "    if features[0] == '[':\n",
    "        features.pop(0)\n",
    "    if features[len(features) - 1] == ']':\n",
    "        features.pop(len(features) - 1)\n",
    "        \n",
    "    for i in range(len(features)):\n",
    "        features[i] = features[i].replace(',', '')\n",
    "\n",
    "    features[0] = features[0].replace('[', '')\n",
    "    features[len(features) - 1] = features[len(features) - 1].replace(']', '')\n",
    "    features = np.array(features)\n",
    "    features = features.astype(float)\n",
    "    featuresArray.append(features)\n",
    "    fileArray = np.append(fileArray, fileName)\n",
    "    #fileArray.append(fileName)\n",
    "    rowCount += 1\n",
    "    \n",
    "featuresNpArray = np.zeros((rowCount,7))\n",
    "for i in range(len(featuresArray)):\n",
    "    featuresNpArray[i, :] = featuresArray[i]\n",
    "    \n",
    "scaler = sklearn.preprocessing.StandardScaler()\n",
    "scaler.fit(featuresNpArray)\n",
    "featuresNpArray = scaler.transform(featuresNpArray)\n",
    "\n",
    "sse = [] #sum of squared errors\n",
    "sil_coeff = [] #silhouette coefficients\n",
    "\n",
    "range_n_clusters = range(2, 10)\n",
    "\n",
    "for k in range_n_clusters:\n",
    "    kmeans = sklearn.cluster.KMeans(n_clusters=k).fit(featuresNpArray)\n",
    "    \n",
    "    sse.append(kmeans.inertia_)\n",
    "    \n",
    "    label = kmeans.labels_\n",
    "    sil_coeff.append(sklearn.metrics.silhouette_score(featuresNpArray, label, metric='euclidean'))\n",
    "         \n",
    "fig = plt.figure(figsize=(8,5))\n",
    "fig.add_subplot(121)\n",
    "plt.plot(range_n_clusters, sse,'b-',label='Sum of Squared Error')\n",
    "plt.xlabel(\"Number of cluster\")\n",
    "plt.ylabel(\"Sum of Squared Error\")\n",
    "plt.legend()\n",
    "fig.add_subplot(122)\n",
    "plt.plot(range_n_clusters, sil_coeff,'b-',label='Silhouette Score')\n",
    "plt.xlabel(\"Number of cluster\")\n",
    "plt.ylabel(\"Silhouette Score\")\n",
    "plt.legend()\n",
    "plt.show()\n",
    "\n",
    "clusters = 6\n",
    "kmeans = sklearn.cluster.KMeans(n_clusters=clusters).fit(featuresNpArray)\n",
    "\n",
    "pred_classes = kmeans.predict(featuresNpArray)\n",
    "print(len(fileArray))\n",
    "\n",
    "for cluster in range(clusters):\n",
    "    print('cluster: ', cluster)\n",
    "    \n",
    "    indiciesWhere = np.where(pred_classes == 0)\n",
    "    for index in indiciesWhere:\n",
    "        subArray = fileArray[np.where(pred_classes == cluster)]\n",
    "        print(len(subArray))\n",
    "        \n",
    "from sklearn.metrics import pairwise_distances\n",
    "\n",
    "distances = pairwise_distances(kmeans.cluster_centers_, featuresNpArray)\n",
    "ind = [np.argpartition(i, 6)[:6] for i in distances]\n",
    "closest = [fileArray[indexes] for indexes in ind]\n",
    "print(closest)"
   ]
  },
  {
   "cell_type": "code",
   "execution_count": null,
   "id": "89b0766b",
   "metadata": {},
   "outputs": [],
   "source": []
  }
 ],
 "metadata": {
  "kernelspec": {
   "display_name": "Python 3 (ipykernel)",
   "language": "python",
   "name": "python3"
  },
  "language_info": {
   "codemirror_mode": {
    "name": "ipython",
    "version": 3
   },
   "file_extension": ".py",
   "mimetype": "text/x-python",
   "name": "python",
   "nbconvert_exporter": "python",
   "pygments_lexer": "ipython3",
   "version": "3.9.10"
  }
 },
 "nbformat": 4,
 "nbformat_minor": 5
}
